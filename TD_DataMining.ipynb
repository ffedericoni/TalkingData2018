{
 "cells": [
  {
   "cell_type": "code",
   "execution_count": 2,
   "metadata": {},
   "outputs": [
    {
     "name": "stdout",
     "output_type": "stream",
     "text": [
      "[read Pandas data] done in 23.6 s\n",
      "[read Dask data] done in 19.7 s\n"
     ]
    },
    {
     "data": {
      "text/plain": [
       "56"
      ]
     },
     "execution_count": 2,
     "metadata": {},
     "output_type": "execute_result"
    }
   ],
   "source": [
    "import pandas as pd\n",
    "#import dask.dataframe as pd\n",
    "import time\n",
    "import numpy as np\n",
    "from contextlib import contextmanager\n",
    "import os; os.environ['OMP_NUM_THREADS'] = '4'\n",
    "import dask.dataframe as dd\n",
    "import gc\n",
    "\n",
    "@contextmanager\n",
    "def timer(name):\n",
    "    t0 = time.time()\n",
    "    yield\n",
    "    print(f'[{name}] done in {time.time() - t0:.1f} s')\n",
    "\n",
    "names = ['ip', 'app', 'device', 'os', 'channel', 'click_time', 'attributed_time', 'is_attributed']\n",
    "usecols= ['ip', 'app', 'device', 'os', 'channel', 'click_time', 'is_attributed']\n",
    "dtypes = {\n",
    "        'ip':'uint32',\n",
    "        'app': 'uint16',\n",
    "        'device': 'uint16',\n",
    "        'os': 'uint16',\n",
    "        'channel': 'uint16',\n",
    "        'is_attributed': 'uint8'\n",
    "        }\n",
    "    \n",
    "path = '../input/'\n",
    "NROWS06 = int(9308567)\n",
    "NROWS07 = int(59639987)\n",
    "NROWS = NROWS06\n",
    "\n",
    "TRAINFILE = 'train06.csv'\n",
    "#TRAINFILE = \"train_sample.csv\"\n",
    "\n",
    "\n",
    "with timer('read Pandas data'):\n",
    "    train = pd.read_csv(path+TRAINFILE, skiprows=0, nrows=NROWS,\n",
    "                        dtype=dtypes,\n",
    "                        names=names,\n",
    "                        usecols=usecols)\n",
    "    train['freqip'] = train.groupby(['ip'])['ip'].transform('count').astype('int32')\n",
    "    train['freqipdev'] = train.groupby(['ip', 'device'])['ip'].transform('count').astype('int32')\n",
    "#    train['time_month'] = train.click_time.str[5:7].astype('int8')\n",
    "    train['time_day']   = train.click_time.str[8:10].astype('int8')\n",
    "    train['time_hr']    = train.click_time.str[11:13].astype('int8')\n",
    "    train['time_min']   = train.click_time.str[14:16].astype('int8')\n",
    "#    train['time_sec']   = train.click_time.str[17:20].astype('int8')\n",
    "    train['freqiphr'] = train.groupby(['ip', 'time_hr'])['ip'].transform('count').astype('int32')\n",
    "    train = train.drop(['click_time'], axis=1)\n",
    "\n",
    "    \n",
    "with timer('read Dask data'):\n",
    "    dask_df = dd.read_csv(path+TRAINFILE, \n",
    "                          dtype=dtypes,names=names,\n",
    "                          usecols=usecols).head(NROWS, npartitions=-1)\n",
    "    dask_df['freqip'] = dask_df.groupby(['ip'])['ip'].transform('count').astype('int32')\n",
    "    dask_df['freqipdev'] = dask_df.groupby(['ip', 'device'])['ip'].transform('count').astype('int32')\n",
    "#    dask_df['time_month'] = dask_df.click_time.str[5:7].astype('int8')\n",
    "    dask_df['time_day']   = dask_df.click_time.str[8:10].astype('int8')\n",
    "    dask_df['time_hr']    = dask_df.click_time.str[11:13].astype('int8')\n",
    "    dask_df['time_min']   = dask_df.click_time.str[14:16].astype('int8')\n",
    "#    dask_df['time_sec']   = dask_df.click_time.str[17:20].astype('int8')\n",
    "    dask_df['freqiphr'] = dask_df.groupby(['ip', 'time_hr'])['ip'].transform('count').astype('int32')\n",
    "    dask_df = dask_df.drop(['click_time'], axis=1)\n",
    "\n",
    "gc.collect()"
   ]
  },
  {
   "cell_type": "code",
   "execution_count": 126,
   "metadata": {},
   "outputs": [],
   "source": [
    "usecols= ['ip', 'app', 'device', 'os', 'channel', 'click_time', 'is_attributed']\n",
    "train = pd.read_csv(path+TRAINFILE, skiprows=0, nrows=1000,\n",
    "                        dtype=dtypes,\n",
    "                        names=names,\n",
    "                        usecols=usecols)\n",
    "\n"
   ]
  },
  {
   "cell_type": "code",
   "execution_count": 8,
   "metadata": {},
   "outputs": [
    {
     "data": {
      "text/plain": [
       "Index                  80\n",
       "ip               37234268\n",
       "app              18617134\n",
       "device           18617134\n",
       "os               18617134\n",
       "channel          18617134\n",
       "is_attributed     9308567\n",
       "freqip           37234268\n",
       "freqipdev        37234268\n",
       "time_day          9308567\n",
       "time_hr           9308567\n",
       "time_min          9308567\n",
       "freqiphr         37234268\n",
       "dtype: int64"
      ]
     },
     "execution_count": 8,
     "metadata": {},
     "output_type": "execute_result"
    }
   ],
   "source": [
    "train.memory_usage()"
   ]
  },
  {
   "cell_type": "code",
   "execution_count": 110,
   "metadata": {},
   "outputs": [
    {
     "data": {
      "text/plain": [
       "ip                int64\n",
       "app               int64\n",
       "device            int64\n",
       "os                int64\n",
       "channel           int64\n",
       "click_time       object\n",
       "is_attributed     int64\n",
       "freqip            int32\n",
       "freqipdev         int32\n",
       "time_month         int8\n",
       "time_day           int8\n",
       "time_hr            int8\n",
       "time_min           int8\n",
       "time_sec           int8\n",
       "dtype: object"
      ]
     },
     "execution_count": 110,
     "metadata": {},
     "output_type": "execute_result"
    }
   ],
   "source": [
    "dask_df.head().dtypes"
   ]
  },
  {
   "cell_type": "code",
   "execution_count": 16,
   "metadata": {},
   "outputs": [
    {
     "data": {
      "text/html": [
       "<div>\n",
       "<style>\n",
       "    .dataframe thead tr:only-child th {\n",
       "        text-align: right;\n",
       "    }\n",
       "\n",
       "    .dataframe thead th {\n",
       "        text-align: left;\n",
       "    }\n",
       "\n",
       "    .dataframe tbody tr th {\n",
       "        vertical-align: top;\n",
       "    }\n",
       "</style>\n",
       "<table border=\"1\" class=\"dataframe\">\n",
       "  <thead>\n",
       "    <tr style=\"text-align: right;\">\n",
       "      <th></th>\n",
       "      <th>ip</th>\n",
       "      <th>app</th>\n",
       "      <th>device</th>\n",
       "      <th>os</th>\n",
       "      <th>channel</th>\n",
       "      <th>click_time</th>\n",
       "      <th>attributed_time</th>\n",
       "      <th>is_attributed</th>\n",
       "    </tr>\n",
       "  </thead>\n",
       "  <tbody>\n",
       "    <tr>\n",
       "      <th>0</th>\n",
       "      <td>17357</td>\n",
       "      <td>3</td>\n",
       "      <td>1</td>\n",
       "      <td>19</td>\n",
       "      <td>379</td>\n",
       "      <td>2017-11-06 14:33:34</td>\n",
       "      <td>NaN</td>\n",
       "      <td>0</td>\n",
       "    </tr>\n",
       "    <tr>\n",
       "      <th>1</th>\n",
       "      <td>35810</td>\n",
       "      <td>3</td>\n",
       "      <td>1</td>\n",
       "      <td>13</td>\n",
       "      <td>379</td>\n",
       "      <td>2017-11-06 14:34:12</td>\n",
       "      <td>NaN</td>\n",
       "      <td>0</td>\n",
       "    </tr>\n",
       "    <tr>\n",
       "      <th>2</th>\n",
       "      <td>45745</td>\n",
       "      <td>14</td>\n",
       "      <td>1</td>\n",
       "      <td>13</td>\n",
       "      <td>478</td>\n",
       "      <td>2017-11-06 14:34:52</td>\n",
       "      <td>NaN</td>\n",
       "      <td>0</td>\n",
       "    </tr>\n",
       "    <tr>\n",
       "      <th>3</th>\n",
       "      <td>161007</td>\n",
       "      <td>3</td>\n",
       "      <td>1</td>\n",
       "      <td>13</td>\n",
       "      <td>379</td>\n",
       "      <td>2017-11-06 14:35:08</td>\n",
       "      <td>NaN</td>\n",
       "      <td>0</td>\n",
       "    </tr>\n",
       "    <tr>\n",
       "      <th>4</th>\n",
       "      <td>18787</td>\n",
       "      <td>3</td>\n",
       "      <td>1</td>\n",
       "      <td>16</td>\n",
       "      <td>379</td>\n",
       "      <td>2017-11-06 14:36:26</td>\n",
       "      <td>NaN</td>\n",
       "      <td>0</td>\n",
       "    </tr>\n",
       "  </tbody>\n",
       "</table>\n",
       "</div>"
      ],
      "text/plain": [
       "       ip  app  device  os  channel           click_time attributed_time  \\\n",
       "0   17357    3       1  19      379  2017-11-06 14:33:34             NaN   \n",
       "1   35810    3       1  13      379  2017-11-06 14:34:12             NaN   \n",
       "2   45745   14       1  13      478  2017-11-06 14:34:52             NaN   \n",
       "3  161007    3       1  13      379  2017-11-06 14:35:08             NaN   \n",
       "4   18787    3       1  16      379  2017-11-06 14:36:26             NaN   \n",
       "\n",
       "   is_attributed  \n",
       "0              0  \n",
       "1              0  \n",
       "2              0  \n",
       "3              0  \n",
       "4              0  "
      ]
     },
     "execution_count": 16,
     "metadata": {},
     "output_type": "execute_result"
    }
   ],
   "source": [
    "\n",
    "dask_df.head()"
   ]
  },
  {
   "cell_type": "code",
   "execution_count": null,
   "metadata": {},
   "outputs": [],
   "source": [
    "dask_df.groupby(['ip', 'device']).count()"
   ]
  },
  {
   "cell_type": "code",
   "execution_count": null,
   "metadata": {},
   "outputs": [],
   "source": []
  }
 ],
 "metadata": {
  "kernelspec": {
   "display_name": "Python 3",
   "language": "python",
   "name": "python3"
  },
  "language_info": {
   "codemirror_mode": {
    "name": "ipython",
    "version": 3
   },
   "file_extension": ".py",
   "mimetype": "text/x-python",
   "name": "python",
   "nbconvert_exporter": "python",
   "pygments_lexer": "ipython3",
   "version": "3.6.3"
  }
 },
 "nbformat": 4,
 "nbformat_minor": 2
}
