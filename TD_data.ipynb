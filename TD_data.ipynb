{
 "cells": [
  {
   "cell_type": "code",
   "execution_count": 5,
   "metadata": {},
   "outputs": [
    {
     "name": "stdout",
     "output_type": "stream",
     "text": [
      "[132.26182913780212] Finished to load data\n",
      "[274.7447941303253] Start XGBoost Training\n",
      "[0]\ttrain-auc:0.881724\tvalid-auc:0.87012\n",
      "Multiple eval metrics have been passed: 'valid-auc' will be used for early stopping.\n",
      "\n",
      "Will train until valid-auc hasn't improved in 40 rounds.\n",
      "[20]\ttrain-auc:0.936175\tvalid-auc:0.932883\n",
      "[40]\ttrain-auc:0.939291\tvalid-auc:0.933959\n",
      "[60]\ttrain-auc:0.946336\tvalid-auc:0.938763\n",
      "[80]\ttrain-auc:0.949633\tvalid-auc:0.943438\n",
      "[100]\ttrain-auc:0.952994\tvalid-auc:0.947388\n",
      "[120]\ttrain-auc:0.95631\tvalid-auc:0.948889\n",
      "[140]\ttrain-auc:0.958698\tvalid-auc:0.949285\n",
      "[160]\ttrain-auc:0.961101\tvalid-auc:0.949642\n",
      "[180]\ttrain-auc:0.962573\tvalid-auc:0.950113\n",
      "[200]\ttrain-auc:0.963883\tvalid-auc:0.950128\n",
      "[220]\ttrain-auc:0.965228\tvalid-auc:0.950477\n",
      "[240]\ttrain-auc:0.966444\tvalid-auc:0.950303\n",
      "[260]\ttrain-auc:0.96729\tvalid-auc:0.949653\n",
      "Stopping. Best iteration:\n",
      "[232]\ttrain-auc:0.966017\tvalid-auc:0.950478\n",
      "\n",
      "[315.7638530731201] Finish XGBoost Training\n"
     ]
    }
   ],
   "source": [
    "import pandas as pd\n",
    "#import dask.dataframe as pd\n",
    "import time\n",
    "import numpy as np\n",
    "from sklearn.model_selection import train_test_split\n",
    "import xgboost as xgb\n",
    "\n",
    "path = '../input/'\n",
    "\n",
    "def dataPreProcessTime(df):\n",
    "    df['click_time'] = pd.to_datetime(df['click_time']).dt.date\n",
    "    df['click_time'] = df['click_time'].apply(lambda x: x.strftime('%Y%m%d')).astype(int)\n",
    "    \n",
    "    return df\n",
    "\n",
    "start_time = time.time()\n",
    "\n",
    "NROWS = 1e6\n",
    "\n",
    "train = pd.read_csv(path+\"train.csv\", skiprows=160000000, nrows=NROWS)\n",
    "train.columns = ['ip', 'app', 'device', 'os', 'channel', 'click_time', 'attributed_time', 'is_attributed']\n",
    "test = pd.read_csv(path+\"test.csv\")\n",
    "\n",
    "print('[{}] Finished to load data'.format(time.time() - start_time))\n",
    "\n",
    "train = dataPreProcessTime(train)\n",
    "test = dataPreProcessTime(test)\n",
    "\n",
    "y = train['is_attributed']\n",
    "train.drop(['is_attributed', 'attributed_time'], axis=1, inplace=True)\n",
    "\n",
    "sub = pd.DataFrame()\n",
    "sub['click_id'] = test['click_id']\n",
    "test.drop('click_id', axis=1, inplace=True)\n",
    "\n",
    "print('[{}] Start XGBoost Training'.format(time.time() - start_time))\n",
    "\n",
    "params = {'eta': 0.05, \n",
    "          'max_depth': 5, \n",
    "          'subsample': 0.9, \n",
    "          'colsample_bytree': 0.7, \n",
    "          'colsample_bylevel':0.7,\n",
    "          'min_child_weight':100,\n",
    "          'alpha':2,\n",
    "          'objective': 'binary:logistic', \n",
    "          'eval_metric': 'auc', \n",
    "          'random_state': 99, \n",
    "          'scale_pos_weight': 20,\n",
    "          'silent': True}\n",
    "          \n",
    "x1, x2, y1, y2 = train_test_split(train, y, test_size=0.1, random_state=54)\n",
    "\n",
    "watchlist = [(xgb.DMatrix(x1, y1), 'train'), (xgb.DMatrix(x2, y2), 'valid')]\n",
    "model = xgb.train(params, xgb.DMatrix(x1, y1), 400, watchlist, maximize=True, \n",
    "                   early_stopping_rounds=40, verbose_eval=20)\n",
    "\n",
    "print('[{}] Finish XGBoost Training'.format(time.time() - start_time))"
   ]
  },
  {
   "cell_type": "code",
   "execution_count": null,
   "metadata": {},
   "outputs": [],
   "source": [
    "sub['is_attributed'] = model.predict(xgb.DMatrix(test), ntree_limit=model.best_ntree_limit)\n",
    "sub.to_csv('xgb_sub.csv',index=False, float_format='%.7f')\n",
    "print('[{}] Finish writing output'.format(time.time() - start_time))"
   ]
  }
 ],
 "metadata": {
  "kernelspec": {
   "display_name": "Python 3",
   "language": "python",
   "name": "python3"
  },
  "language_info": {
   "codemirror_mode": {
    "name": "ipython",
    "version": 3
   },
   "file_extension": ".py",
   "mimetype": "text/x-python",
   "name": "python",
   "nbconvert_exporter": "python",
   "pygments_lexer": "ipython3",
   "version": "3.6.3"
  }
 },
 "nbformat": 4,
 "nbformat_minor": 2
}
